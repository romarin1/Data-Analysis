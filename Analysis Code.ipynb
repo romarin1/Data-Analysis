{
 "cells": [
  {
   "cell_type": "code",
   "execution_count": null,
   "id": "f789dcd6",
   "metadata": {},
   "outputs": [],
   "source": [
    "# Passo 1 - Importar a base de dados para o Python\n",
    "# pandas(um dos mais usados em analise de dados)\n",
    "import pandas as pd\n",
    "\n",
    "tabela = pd.read_csv('telecom_users.csv')\n",
    "display (tabela)"
   ]
  },
  {
   "cell_type": "code",
   "execution_count": null,
   "id": "899e8e12",
   "metadata": {},
   "outputs": [],
   "source": [
    "# Passo 2 - Visualizar a base e dados\n",
    "\n",
    "# - Enteneder quais as informações são disponiveis\n",
    "tabela = tabela.drop(\"Unnamed: 0\", axis = 1) # 0 exclui linha e 1 exclui coluna\n",
    "\n",
    "    # - Descobir os defeitos da base de dados"
   ]
  },
  {
   "cell_type": "code",
   "execution_count": null,
   "id": "ffc65793",
   "metadata": {},
   "outputs": [],
   "source": [
    "# Passo 3 - Tratameno da base de dados\n",
    "    # - Valores vazios\n",
    "    # - Valores que são numeros mas que o python acha que são texto\n",
    "    # - Excluir informações inuteis\n",
    "    "
   ]
  },
  {
   "cell_type": "code",
   "execution_count": null,
   "id": "a25c9eb7",
   "metadata": {},
   "outputs": [],
   "source": [
    "# Passo 4 - Analise exploratoria -> Analise geral -> analisar as informações passadas com as informações do arquivo"
   ]
  },
  {
   "cell_type": "code",
   "execution_count": null,
   "id": "ae277b81",
   "metadata": {},
   "outputs": [],
   "source": [
    "# Passo 5 - Olhano as colunas da nossa base de dados -> ientificar o motivo do problema"
   ]
  },
  {
   "cell_type": "code",
   "execution_count": null,
   "id": "e4ff6066",
   "metadata": {},
   "outputs": [],
   "source": []
  }
 ],
 "metadata": {
  "kernelspec": {
   "display_name": "Python 3",
   "language": "python",
   "name": "python3"
  },
  "language_info": {
   "codemirror_mode": {
    "name": "ipython",
    "version": 3
   },
   "file_extension": ".py",
   "mimetype": "text/x-python",
   "name": "python",
   "nbconvert_exporter": "python",
   "pygments_lexer": "ipython3",
   "version": "3.8.8"
  }
 },
 "nbformat": 4,
 "nbformat_minor": 5
}
